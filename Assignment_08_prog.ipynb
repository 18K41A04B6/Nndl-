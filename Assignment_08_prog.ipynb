{
  "nbformat": 4,
  "nbformat_minor": 0,
  "metadata": {
    "colab": {
      "name": "Assignment 08  prog.ipynb",
      "provenance": [],
      "authorship_tag": "ABX9TyO+MBgk43Gkof3h/narj/vs",
      "include_colab_link": true
    },
    "kernelspec": {
      "name": "python3",
      "display_name": "Python 3"
    },
    "language_info": {
      "name": "python"
    }
  },
  "cells": [
    {
      "cell_type": "markdown",
      "metadata": {
        "id": "view-in-github",
        "colab_type": "text"
      },
      "source": [
        "<a href=\"https://colab.research.google.com/github/18K41A04B6/Nndl-/blob/main/Assignment_08_prog.ipynb\" target=\"_parent\"><img src=\"https://colab.research.google.com/assets/colab-badge.svg\" alt=\"Open In Colab\"/></a>"
      ]
    },
    {
      "cell_type": "code",
      "metadata": {
        "id": "pGa7NjwREtoA"
      },
      "source": [
        "import numpy as np\n",
        "import matplotlib.pyplot as plt\n",
        "import pandas as pd\n",
        "from sklearn.preprocessing import minmax_scale\n",
        "from sklearn.model_selection import train_test_split\n",
        "import seaborn as sns\n",
        "from scipy import stats"
      ],
      "execution_count": null,
      "outputs": []
    },
    {
      "cell_type": "code",
      "metadata": {
        "colab": {
          "base_uri": "https://localhost:8080/",
          "height": 212
        },
        "id": "hTm0fYBOFBMb",
        "outputId": "fbe8194d-b4c9-493c-d88f-14f83391714d"
      },
      "source": [
        "data = pd.read_excel(\"pressure_weight.xls\")\n",
        "data.head()"
      ],
      "execution_count": null,
      "outputs": [
        {
          "output_type": "stream",
          "text": [
            "*** No CODEPAGE record, no encoding_override: will use 'ascii'\n"
          ],
          "name": "stdout"
        },
        {
          "output_type": "execute_result",
          "data": {
            "text/html": [
              "<div>\n",
              "<style scoped>\n",
              "    .dataframe tbody tr th:only-of-type {\n",
              "        vertical-align: middle;\n",
              "    }\n",
              "\n",
              "    .dataframe tbody tr th {\n",
              "        vertical-align: top;\n",
              "    }\n",
              "\n",
              "    .dataframe thead th {\n",
              "        text-align: right;\n",
              "    }\n",
              "</style>\n",
              "<table border=\"1\" class=\"dataframe\">\n",
              "  <thead>\n",
              "    <tr style=\"text-align: right;\">\n",
              "      <th></th>\n",
              "      <th>X</th>\n",
              "      <th>Y</th>\n",
              "    </tr>\n",
              "  </thead>\n",
              "  <tbody>\n",
              "    <tr>\n",
              "      <th>0</th>\n",
              "      <td>75.1</td>\n",
              "      <td>577.8</td>\n",
              "    </tr>\n",
              "    <tr>\n",
              "      <th>1</th>\n",
              "      <td>74.3</td>\n",
              "      <td>577.0</td>\n",
              "    </tr>\n",
              "    <tr>\n",
              "      <th>2</th>\n",
              "      <td>88.7</td>\n",
              "      <td>570.9</td>\n",
              "    </tr>\n",
              "    <tr>\n",
              "      <th>3</th>\n",
              "      <td>114.6</td>\n",
              "      <td>578.6</td>\n",
              "    </tr>\n",
              "    <tr>\n",
              "      <th>4</th>\n",
              "      <td>98.5</td>\n",
              "      <td>572.4</td>\n",
              "    </tr>\n",
              "  </tbody>\n",
              "</table>\n",
              "</div>"
            ],
            "text/plain": [
              "       X      Y\n",
              "0   75.1  577.8\n",
              "1   74.3  577.0\n",
              "2   88.7  570.9\n",
              "3  114.6  578.6\n",
              "4   98.5  572.4"
            ]
          },
          "metadata": {
            "tags": []
          },
          "execution_count": 6
        }
      ]
    },
    {
      "cell_type": "code",
      "metadata": {
        "colab": {
          "base_uri": "https://localhost:8080/"
        },
        "id": "n-NRWr46F7rN",
        "outputId": "227e30c0-d6c6-4fe7-80a5-03711cd133ec"
      },
      "source": [
        "data.info()\n"
      ],
      "execution_count": null,
      "outputs": [
        {
          "output_type": "stream",
          "text": [
            "<class 'pandas.core.frame.DataFrame'>\n",
            "RangeIndex: 30 entries, 0 to 29\n",
            "Data columns (total 2 columns):\n",
            " #   Column  Non-Null Count  Dtype  \n",
            "---  ------  --------------  -----  \n",
            " 0   X       30 non-null     float64\n",
            " 1   Y       30 non-null     float64\n",
            "dtypes: float64(2)\n",
            "memory usage: 608.0 bytes\n"
          ],
          "name": "stdout"
        }
      ]
    },
    {
      "cell_type": "code",
      "metadata": {
        "colab": {
          "base_uri": "https://localhost:8080/"
        },
        "id": "cvnK_S5YGMqp",
        "outputId": "0e93f40b-a5cd-40c7-a869-7bc7476138ca"
      },
      "source": [
        "z = np.abs(stats.zscore(data))\n",
        "print(z)"
      ],
      "execution_count": null,
      "outputs": [
        {
          "output_type": "stream",
          "text": [
            "[[0.90855142 1.61656054]\n",
            " [0.95645395 1.59597943]\n",
            " [0.09420832 1.43904846]\n",
            " [1.45663625 1.63714165]\n",
            " [0.49259774 1.47763804]\n",
            " [1.30095302 2.6694559 ]\n",
            " [1.46861189 0.430574  ]\n",
            " [1.68097979 1.25896373]\n",
            " [1.00156217 2.78522465]\n",
            " [0.01357238 0.20229517]\n",
            " [0.98639304 0.47756754]\n",
            " [1.52849006 0.25117531]\n",
            " [0.54648809 0.22030365]\n",
            " [0.16326781 0.12254337]\n",
            " [0.98040522 0.28461962]\n",
            " [1.4714062  0.22544892]\n",
            " [1.44146712 0.22287629]\n",
            " [0.74089254 0.12254337]\n",
            " [1.16922104 0.16370559]\n",
            " [0.9057571  0.10453489]\n",
            " [0.10019614 0.24603004]\n",
            " [0.04031797 0.05565476]\n",
            " [0.98639304 0.31291865]\n",
            " [0.66025661 0.56503726]\n",
            " [1.77997837 0.10710753]\n",
            " [0.86064888 0.05565476]\n",
            " [0.84268543 0.04021892]\n",
            " [0.50137987 0.12768865]\n",
            " [0.35767226 0.27432906]\n",
            " [0.46265865 0.18102803]]\n"
          ],
          "name": "stdout"
        }
      ]
    },
    {
      "cell_type": "code",
      "metadata": {
        "colab": {
          "base_uri": "https://localhost:8080/",
          "height": 296
        },
        "id": "A1DzaNPlGUUr",
        "outputId": "ed118c61-80da-42d7-ecab-9f39cc619300"
      },
      "source": [
        "sns.boxplot(x=data['X'])\n"
      ],
      "execution_count": null,
      "outputs": [
        {
          "output_type": "execute_result",
          "data": {
            "text/plain": [
              "<matplotlib.axes._subplots.AxesSubplot at 0x7f107e492690>"
            ]
          },
          "metadata": {
            "tags": []
          },
          "execution_count": 9
        },
        {
          "output_type": "display_data",
          "data": {
            "image/png": "[encoded data removed]",
            "text/plain": [
              "<Figure size 432x288 with 1 Axes>"
            ]
          },
          "metadata": {
            "tags": [],
            "needs_background": "light"
          }
        }
      ]
    },
    {
      "cell_type": "code",
      "metadata": {
        "colab": {
          "base_uri": "https://localhost:8080/",
          "height": 269
        },
        "id": "aA-NaDfTGbst",
        "outputId": "6b831eeb-8cb4-46b2-878b-6dcd5cd3ebdb"
      },
      "source": [
        "sns.boxplot(y=data['Y'])"
      ],
      "execution_count": null,
      "outputs": [
        {
          "output_type": "execute_result",
          "data": {
            "text/plain": [
              "<matplotlib.axes._subplots.AxesSubplot at 0x7f107e3bef90>"
            ]
          },
          "metadata": {
            "tags": []
          },
          "execution_count": 10
        },
        {
          "output_type": "display_data",
          "data": {
            "image/png": "[encoded data removed]",
            "text/plain": [
              "<Figure size 432x288 with 1 Axes>"
            ]
          },
          "metadata": {
            "tags": [],
            "needs_background": "light"
          }
        }
      ]
    },
    {
      "cell_type": "code",
      "metadata": {
        "colab": {
          "base_uri": "https://localhost:8080/",
          "height": 195
        },
        "id": "yrDO9TWSGjK5",
        "outputId": "604d9644-83b3-4909-ebd9-c5f013eaa4e0"
      },
      "source": [
        "f_data = data[(z < 3).all(axis=1)]\n",
        "f_data.head()\n"
      ],
      "execution_count": null,
      "outputs": [
        {
          "output_type": "execute_result",
          "data": {
            "text/html": [
              "<div>\n",
              "<style scoped>\n",
              "    .dataframe tbody tr th:only-of-type {\n",
              "        vertical-align: middle;\n",
              "    }\n",
              "\n",
              "    .dataframe tbody tr th {\n",
              "        vertical-align: top;\n",
              "    }\n",
              "\n",
              "    .dataframe thead th {\n",
              "        text-align: right;\n",
              "    }\n",
              "</style>\n",
              "<table border=\"1\" class=\"dataframe\">\n",
              "  <thead>\n",
              "    <tr style=\"text-align: right;\">\n",
              "      <th></th>\n",
              "      <th>X</th>\n",
              "      <th>Y</th>\n",
              "    </tr>\n",
              "  </thead>\n",
              "  <tbody>\n",
              "    <tr>\n",
              "      <th>0</th>\n",
              "      <td>75.1</td>\n",
              "      <td>577.8</td>\n",
              "    </tr>\n",
              "    <tr>\n",
              "      <th>1</th>\n",
              "      <td>74.3</td>\n",
              "      <td>577.0</td>\n",
              "    </tr>\n",
              "    <tr>\n",
              "      <th>2</th>\n",
              "      <td>88.7</td>\n",
              "      <td>570.9</td>\n",
              "    </tr>\n",
              "    <tr>\n",
              "      <th>3</th>\n",
              "      <td>114.6</td>\n",
              "      <td>578.6</td>\n",
              "    </tr>\n",
              "    <tr>\n",
              "      <th>4</th>\n",
              "      <td>98.5</td>\n",
              "      <td>572.4</td>\n",
              "    </tr>\n",
              "  </tbody>\n",
              "</table>\n",
              "</div>"
            ],
            "text/plain": [
              "       X      Y\n",
              "0   75.1  577.8\n",
              "1   74.3  577.0\n",
              "2   88.7  570.9\n",
              "3  114.6  578.6\n",
              "4   98.5  572.4"
            ]
          },
          "metadata": {
            "tags": []
          },
          "execution_count": 11
        }
      ]
    },
    {
      "cell_type": "code",
      "metadata": {
        "colab": {
          "base_uri": "https://localhost:8080/"
        },
        "id": "m7sGde4uGotg",
        "outputId": "1cf7acf2-14ed-4033-fbf0-84a43cad8bc9"
      },
      "source": [
        "print(len(data))\n",
        "print(len(f_data))\n",
        "if(len(data) == len(f_data)):\n",
        "    print('No outliners')"
      ],
      "execution_count": null,
      "outputs": [
        {
          "output_type": "stream",
          "text": [
            "30\n",
            "30\n",
            "No outliners\n"
          ],
          "name": "stdout"
        }
      ]
    },
    {
      "cell_type": "code",
      "metadata": {
        "colab": {
          "base_uri": "https://localhost:8080/",
          "height": 195
        },
        "id": "19xjUXyKGzAN",
        "outputId": "7336e52b-0765-419f-8c17-8c82d07f1a6f"
      },
      "source": [
        "data_n = data.copy()\n",
        "data_n = (data_n - data_n.min())/(data_n.max() - data_n.min())\n",
        "data_n.head()"
      ],
      "execution_count": null,
      "outputs": [
        {
          "output_type": "execute_result",
          "data": {
            "text/html": [
              "<div>\n",
              "<style scoped>\n",
              "    .dataframe tbody tr th:only-of-type {\n",
              "        vertical-align: middle;\n",
              "    }\n",
              "\n",
              "    .dataframe tbody tr th {\n",
              "        vertical-align: top;\n",
              "    }\n",
              "\n",
              "    .dataframe thead th {\n",
              "        text-align: right;\n",
              "    }\n",
              "</style>\n",
              "<table border=\"1\" class=\"dataframe\">\n",
              "  <thead>\n",
              "    <tr style=\"text-align: right;\">\n",
              "      <th></th>\n",
              "      <th>X</th>\n",
              "      <th>Y</th>\n",
              "    </tr>\n",
              "  </thead>\n",
              "  <tbody>\n",
              "    <tr>\n",
              "      <th>0</th>\n",
              "      <td>0.223183</td>\n",
              "      <td>0.995346</td>\n",
              "    </tr>\n",
              "    <tr>\n",
              "      <th>1</th>\n",
              "      <td>0.209343</td>\n",
              "      <td>0.990692</td>\n",
              "    </tr>\n",
              "    <tr>\n",
              "      <th>2</th>\n",
              "      <td>0.458478</td>\n",
              "      <td>0.955207</td>\n",
              "    </tr>\n",
              "    <tr>\n",
              "      <th>3</th>\n",
              "      <td>0.906574</td>\n",
              "      <td>1.000000</td>\n",
              "    </tr>\n",
              "    <tr>\n",
              "      <th>4</th>\n",
              "      <td>0.628028</td>\n",
              "      <td>0.963933</td>\n",
              "    </tr>\n",
              "  </tbody>\n",
              "</table>\n",
              "</div>"
            ],
            "text/plain": [
              "          X         Y\n",
              "0  0.223183  0.995346\n",
              "1  0.209343  0.990692\n",
              "2  0.458478  0.955207\n",
              "3  0.906574  1.000000\n",
              "4  0.628028  0.963933"
            ]
          },
          "metadata": {
            "tags": []
          },
          "execution_count": 13
        }
      ]
    },
    {
      "cell_type": "code",
      "metadata": {
        "id": "Bqtxs0FNHARC"
      },
      "source": [
        "train_data,test_data = train_test_split(data_n,test_size=0.1)\n"
      ],
      "execution_count": null,
      "outputs": []
    },
    {
      "cell_type": "code",
      "metadata": {
        "colab": {
          "base_uri": "https://localhost:8080/",
          "height": 212
        },
        "id": "h71TY6-zHHOQ",
        "outputId": "634e9446-c76d-4591-a677-4ebd6de4bfa0"
      },
      "source": [
        "print(len(train_data))\n",
        "train_data.head()\n"
      ],
      "execution_count": null,
      "outputs": [
        {
          "output_type": "stream",
          "text": [
            "27\n"
          ],
          "name": "stdout"
        },
        {
          "output_type": "execute_result",
          "data": {
            "text/html": [
              "<div>\n",
              "<style scoped>\n",
              "    .dataframe tbody tr th:only-of-type {\n",
              "        vertical-align: middle;\n",
              "    }\n",
              "\n",
              "    .dataframe tbody tr th {\n",
              "        vertical-align: top;\n",
              "    }\n",
              "\n",
              "    .dataframe thead th {\n",
              "        text-align: right;\n",
              "    }\n",
              "</style>\n",
              "<table border=\"1\" class=\"dataframe\">\n",
              "  <thead>\n",
              "    <tr style=\"text-align: right;\">\n",
              "      <th></th>\n",
              "      <th>X</th>\n",
              "      <th>Y</th>\n",
              "    </tr>\n",
              "  </thead>\n",
              "  <tbody>\n",
              "    <tr>\n",
              "      <th>15</th>\n",
              "      <td>0.060554</td>\n",
              "      <td>0.578825</td>\n",
              "    </tr>\n",
              "    <tr>\n",
              "      <th>12</th>\n",
              "      <td>0.643599</td>\n",
              "      <td>0.579988</td>\n",
              "    </tr>\n",
              "    <tr>\n",
              "      <th>19</th>\n",
              "      <td>0.747405</td>\n",
              "      <td>0.606166</td>\n",
              "    </tr>\n",
              "    <tr>\n",
              "      <th>10</th>\n",
              "      <td>0.200692</td>\n",
              "      <td>0.521815</td>\n",
              "    </tr>\n",
              "    <tr>\n",
              "      <th>14</th>\n",
              "      <td>0.202422</td>\n",
              "      <td>0.565445</td>\n",
              "    </tr>\n",
              "  </tbody>\n",
              "</table>\n",
              "</div>"
            ],
            "text/plain": [
              "           X         Y\n",
              "15  0.060554  0.578825\n",
              "12  0.643599  0.579988\n",
              "19  0.747405  0.606166\n",
              "10  0.200692  0.521815\n",
              "14  0.202422  0.565445"
            ]
          },
          "metadata": {
            "tags": []
          },
          "execution_count": 15
        }
      ]
    },
    {
      "cell_type": "code",
      "metadata": {
        "id": "gWSi10zuHRW2"
      },
      "source": [
        "xa = np.array(train_data['X'])\n",
        "ya = np.array(train_data['Y'])"
      ],
      "execution_count": null,
      "outputs": []
    },
    {
      "cell_type": "code",
      "metadata": {
        "colab": {
          "base_uri": "https://localhost:8080/"
        },
        "id": "wGyf2MUnHbhl",
        "outputId": "cfde819f-fb59-452f-dd3f-ac21b53caeec"
      },
      "source": [
        "from sympy import Symbol, Derivative, symbols\n",
        "m= Symbol('m')\n",
        "c= Symbol('c')\n",
        "function = '0.5*(y-m*x-c)**2'\n",
        "partialderiv= Derivative(function, m)\n",
        "dfm = partialderiv.doit()\n",
        "partialderiv= Derivative(function, c)\n",
        "dfc = partialderiv.doit()\n",
        "\n",
        "print(f'first order derivatives of given function are de/dm = {dfm} ,de/dc = {dfc}')\n",
        "err = []\n",
        "#step 1 initialise values \n",
        "m1 = -1.0 \n",
        "c1 = 1.0  #variable x, y\n",
        "itr = 100  #epoches\n",
        "learning_rate = 0.1  #learning rate\n",
        "for i in range(0,itr):\n",
        "    dfmv1 = 0\n",
        "    dfcv1 = 0\n",
        "    er = 0\n",
        "    for j in range(0,len(xa)):\n",
        "        er +=  ((ya[j] - (m1 * xa[j]) - c1))**2\n",
        "        #step 2 substitute x ,y in first order derivatives df/dx, df/dy\n",
        "        m = symbols('m')\n",
        "        c = symbols('c')\n",
        "        x = symbols('x')\n",
        "        y = symbols('y')\n",
        "        dfmv = dfm.subs(m, m1) \n",
        "        dfmv = dfmv.subs(c, c1) \n",
        "        dfmv = dfmv.subs(x, xa[j]) \n",
        "        dfmv = dfmv.subs(y, ya[j]) \n",
        "        dfmv = round(dfmv,2)\n",
        "        dfcv = dfc.subs(c, c1) \n",
        "        dfcv = dfcv.subs(m, m1) \n",
        "        dfcv = dfcv.subs(x, xa[j]) \n",
        "        dfcv = dfcv.subs(y, ya[j]) \n",
        "        dfcv = round(dfcv,2)\n",
        "        dfmv1 += dfmv\n",
        "        dfcv1 += dfcv\n",
        "    dfmv1 = dfmv1/len(xa)\n",
        "    dfcv1 = dfcv1/len(xa)\n",
        "    \n",
        "    dfmv1 = round(dfmv1,2)\n",
        "    dfcv1 = round(dfcv1,2)\n",
        "    #step3 find change in x , y\n",
        "    dm = (-1.0)*learning_rate*dfmv1\n",
        "    dc = (-1.0)*learning_rate*dfcv1\n",
        "    #step4 update variable \n",
        "    m1 = m1 + dm\n",
        "    m1 = round(m1, 2) \n",
        "    c1 = c1 + dc\n",
        "    c1 = round(c1, 2)\n",
        "    er = (1/(2*len(train_data['X'])))*(er)\n",
        "    err.append(er)\n",
        "    #step5 increment iterations \n",
        "    #step6 break loop if iterations exceed no of epoches\n",
        "#step7 print variable x1, y1\n",
        "print(m1, c1)\n",
        "print(f'minimum value obtained at m = {m1} ,c ={c1} for given function')"
      ],
      "execution_count": null,
      "outputs": [
        {
          "output_type": "stream",
          "text": [
            "first order derivatives of given function are de/dm = -1.0*x*(-c - m*x + y) ,de/dc = 1.0*c + 1.0*m*x - 1.0*y\n",
            "-0.87 1.04\n",
            "minimum value obtained at m = -0.87 ,c =1.04 for given function\n"
          ],
          "name": "stdout"
        }
      ]
    },
    {
      "cell_type": "code",
      "metadata": {
        "colab": {
          "base_uri": "https://localhost:8080/"
        },
        "id": "cnPr-OR-IgN2",
        "outputId": "e1422a6a-926a-4a91-84d3-d2ad706bf30e"
      },
      "source": [
        "\n",
        "train_data_pred =  m1*train_data['X'] + c1\n",
        "\n",
        "from sklearn.metrics import mean_squared_error\n",
        "mse = mean_squared_error(train_data['Y'],train_data_pred)\n",
        "mse"
      ],
      "execution_count": null,
      "outputs": [
        {
          "output_type": "execute_result",
          "data": {
            "text/plain": [
              "0.08844403461070309"
            ]
          },
          "metadata": {
            "tags": []
          },
          "execution_count": 20
        }
      ]
    },
    {
      "cell_type": "code",
      "metadata": {
        "colab": {
          "base_uri": "https://localhost:8080/",
          "height": 298
        },
        "id": "PMHMaVDdIruS",
        "outputId": "1161c182-ce79-4b7d-81a6-31fc8945aa8c"
      },
      "source": [
        "plt.plot(np.array(train_data['X']),np.array(train_data_pred),'green')\n",
        "plt.scatter(np.array(train_data['X']),np.array(train_data['Y']),color='red')\n",
        "plt.title('predicted data vs actual data')"
      ],
      "execution_count": null,
      "outputs": [
        {
          "output_type": "execute_result",
          "data": {
            "text/plain": [
              "Text(0.5, 1.0, 'predicted data vs actual data')"
            ]
          },
          "metadata": {
            "tags": []
          },
          "execution_count": 21
        },
        {
          "output_type": "display_data",
          "data": {
            "image/png": "[encoded data removed]",
            "text/plain": [
              "<Figure size 432x288 with 1 Axes>"
            ]
          },
          "metadata": {
            "tags": [],
            "needs_background": "light"
          }
        }
      ]
    },
    {
      "cell_type": "code",
      "metadata": {
        "colab": {
          "base_uri": "https://localhost:8080/",
          "height": 295
        },
        "id": "26CMcAeBI9t8",
        "outputId": "8657cf57-d232-431f-c334-ba6a8c580b34"
      },
      "source": [
        "iters = np.arange(itr)\n",
        "plt.plot(iters,err,'green')\n",
        "plt.title(\"Error graph for training data\")\n",
        "plt.xlabel(\"iteration count\")\n",
        "plt.ylabel(\"error\")\n",
        "plt.grid()"
      ],
      "execution_count": null,
      "outputs": [
        {
          "output_type": "display_data",
          "data": {
            "image/png": "[encoded data removed]",
            "text/plain": [
              "<Figure size 432x288 with 1 Axes>"
            ]
          },
          "metadata": {
            "tags": [],
            "needs_background": "light"
          }
        }
      ]
    },
    {
      "cell_type": "code",
      "metadata": {
        "colab": {
          "base_uri": "https://localhost:8080/"
        },
        "id": "ISKvfe9RJK1a",
        "outputId": "7cf71d92-55cc-42bd-c72d-1c4c152315b2"
      },
      "source": [
        "test_data_pred = m1 *test_data['X'] + c1\n",
        "mse2 = mean_squared_error(test_data['Y'],test_data_pred)\n",
        "mse2"
      ],
      "execution_count": null,
      "outputs": [
        {
          "output_type": "execute_result",
          "data": {
            "text/plain": [
              "0.08421845029726159"
            ]
          },
          "metadata": {
            "tags": []
          },
          "execution_count": 25
        }
      ]
    },
    {
      "cell_type": "code",
      "metadata": {
        "colab": {
          "base_uri": "https://localhost:8080/",
          "height": 265
        },
        "id": "NPqGcUtQJqk-",
        "outputId": "f4eb415d-7390-4ffa-b947-15efd3246201"
      },
      "source": [
        "plt.scatter(test_data['X'],test_data['Y'],color='red')\n",
        "plt.plot(test_data['X'],test_data_pred,'green')\n",
        "plt.grid()"
      ],
      "execution_count": null,
      "outputs": [
        {
          "output_type": "display_data",
          "data": {
            "image/png": "[encoded data removed]",
            "text/plain": [
              "<Figure size 432x288 with 1 Axes>"
            ]
          },
          "metadata": {
            "tags": [],
            "needs_background": "light"
          }
        }
      ]
    },
    {
      "cell_type": "code",
      "metadata": {
        "id": "rmq9Mdd_J3WF"
      },
      "source": [
        "\n",
        "x_min = data['X'].min()\n",
        "x_max = data['X'].max()\n",
        "y_min = data['Y'].min()\n",
        "y_max = data['Y'].max()"
      ],
      "execution_count": null,
      "outputs": []
    },
    {
      "cell_type": "code",
      "metadata": {
        "colab": {
          "base_uri": "https://localhost:8080/"
        },
        "id": "MnJE_pF9KHWY",
        "outputId": "34536d78-2c31-4347-80ab-b49bc0d09ef7"
      },
      "source": [
        "x =x1 = float(input(\"enter pressure of liquid nitrogen value :\"))\n",
        "x = (x - x_min)/(x_max - x_min)\n",
        "y = m1*x + c1\n",
        "y = y*(y_max - y_min) + y_min\n",
        "print(f\"weight of liquid nitrogen based on its pressure {x1} is : {y}\")"
      ],
      "execution_count": null,
      "outputs": [
        {
          "output_type": "stream",
          "text": [
            "enter pressure of liquid nitrogen value :74.3\n",
            "weight of liquid nitrogen based on its pressure 74.3 is : 554.170689777520\n"
          ],
          "name": "stdout"
        }
      ]
    },
    {
      "cell_type": "code",
      "metadata": {
        "id": "1S_hsbXvKV1N"
      },
      "source": [
        ""
      ],
      "execution_count": null,
      "outputs": []
    }
  ]
}